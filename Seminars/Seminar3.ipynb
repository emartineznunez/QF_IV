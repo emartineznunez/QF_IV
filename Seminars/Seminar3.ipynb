{
 "cells": [
  {
   "cell_type": "markdown",
   "metadata": {},
   "source": [
    "1. Knowing that $C_V=\\left( \\frac{\\partial U}{\\partial T} \\right)_{V}$ and $C_p=\\left( \\frac{\\partial H}{\\partial T} \\right)_{p}$.\n",
    "\n",
    "a) Derive an expression for $C_V$ and $C_p$ for a monoatomic ideal gas."
   ]
  },
  {
   "cell_type": "code",
   "execution_count": null,
   "metadata": {},
   "outputs": [],
   "source": []
  },
  {
   "cell_type": "markdown",
   "metadata": {},
   "source": [
    "b) Determine the contribution of the vibrational energy of a diatomic molecule to $C_V$. Plot the variation of $C_{V,m}/R$ as a function of $T/\\theta_{vib}$"
   ]
  },
  {
   "cell_type": "code",
   "execution_count": null,
   "metadata": {},
   "outputs": [],
   "source": [
    "import numpy as np\n",
    "import matplotlib.pyplot as plt\n",
    "\n",
    "x = np.linspace(0.001,1,1000)\n",
    "y = 1 / x ** 2 * ( np.e ** (-1/(2*x)) / (1-np.e**(-1/x)) ) ** 2\n",
    "\n",
    "plt.plot(x,y)\n",
    "plt.xlabel('T/theta_vib')\n",
    "plt.ylabel('Molar heat capacity, CV,m/R')\n",
    "plt.show()"
   ]
  },
  {
   "cell_type": "markdown",
   "metadata": {},
   "source": [
    "c) Explain the result for high temperature"
   ]
  },
  {
   "cell_type": "code",
   "execution_count": null,
   "metadata": {},
   "outputs": [],
   "source": []
  }
 ],
 "metadata": {
  "kernelspec": {
   "display_name": "Python 3",
   "language": "python",
   "name": "python3"
  },
  "language_info": {
   "codemirror_mode": {
    "name": "ipython",
    "version": 3
   },
   "file_extension": ".py",
   "mimetype": "text/x-python",
   "name": "python",
   "nbconvert_exporter": "python",
   "pygments_lexer": "ipython3",
   "version": "3.8.5"
  }
 },
 "nbformat": 4,
 "nbformat_minor": 4
}
