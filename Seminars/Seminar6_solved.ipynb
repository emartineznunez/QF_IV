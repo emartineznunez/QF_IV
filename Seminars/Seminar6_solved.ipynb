{
 "cells": [
  {
   "cell_type": "markdown",
   "metadata": {},
   "source": [
    "# Seminar 6.<br>\n",
    "\n",
    "<font size=\"4\">2. The vapor pressure of a pesticide and its solubility in water are the important physicochemical parameters that determine its environmental distribution. The environmental protection agencies of the United States and the European Union impose as a requirement for the registration and approval of a chemical compound for agricultural use the measurement of its vapor pressure. Zeneca company proposed in 1997 a modification of the Knudsen method for the measurement of the vapor pressure of chemical compounds for use in agriculture, which represents an important advance in the sensitivity of the method and considerably reduces the experimental time (MA Goodman, J. Chemical Engineering Data 42, 1227, 1997).\n",
    "\n",
    "\n",
    "Hexaconazole (1) and Atrazine (2) are two pesticides that have been widely used in the treatment of pests in agricultural crops.\n",
    "Goodman's measurements, on a modified Knudsen Balance, with an effusion slit of 0.299 mm in diameter, provide vapor pressures as a function of temperature:</font>\n",
    "\n",
    "\n",
    "| &nbsp; &nbsp; &nbsp;&nbsp; &nbsp; <font size=\"3\">$P_{1}$(mPa)</font>  |    &nbsp; &nbsp; &nbsp; &nbsp; &nbsp; <font size=\"3\">$t$(ºC)</font>  |\n",
    "|----------|---------------|\n",
    "| 1.7      |       55      |\n",
    "| 3.6      |       60      |\n",
    "| 8.0      |       65      |\n",
    "| 15       |       70      |\n",
    "| 28       |       75      |\n",
    "\n",
    "| &nbsp; &nbsp; &nbsp;&nbsp; &nbsp; <font size=\"3\">$P_{2}$(mPa)</font>  |    &nbsp; &nbsp; &nbsp; &nbsp; &nbsp; <font size=\"3\">$t$(ºC)</font>  |\n",
    "|----------|---------------|\n",
    "| 0.67     |       40      |\n",
    "| 2.2      |       50      |\n",
    "| 9.5      |       60      |\n",
    "| 30       |       70      |\n",
    "| 98       |       80      |\n",
    "\n",
    "<font size=\"4\">a) Plot the experimental curve for the loss of mass of Hexaconazole as a function of time for each temperature in the experimental device.</font>\n",
    "\n",
    "\n",
    "**Hint #1:** You can use numpy arrays for easy manipulation of the data like this:\n",
    "```python\n",
    "P_1 = np.array([1.7, 3.6, 8.0, 15, 28])\n",
    "t_1 = np.array([55, 60, 65, 70, 75])\n",
    "P_2 = np.array([0.67, 2.2, 9.5, 30, 98])\n",
    "t_2 = np.array([40, 50, 60, 70, 80])\n",
    "```"
   ]
  },
  {
   "cell_type": "code",
   "execution_count": null,
   "metadata": {},
   "outputs": [],
   "source": [
    "%matplotlib inline\n",
    "import numpy as np\n",
    "from matplotlib import pyplot\n",
    "from math import sqrt\n",
    "\n",
    "def delta_m(P, T, M):\n",
    "    return P * sqrt(M / (2 * np.pi * R * T)) * A_0 * t\n",
    "\n",
    "P_1 = np.array([1.7, 3.6, 8.0, 15, 28])\n",
    "t_1 = np.array([55, 60, 65, 70, 75])\n",
    "P_2 = np.array([0.67, 2.2, 9.5, 30, 98])\n",
    "t_2 = np.array([40, 50, 60, 70, 80])\n",
    "\n",
    "#SI Units\n",
    "P_1 = P_1 * 0.001\n",
    "P_2 = P_2 * 0.001\n",
    "T_1 = t_1 + 273.15\n",
    "T_2 = t_2 + 273.15\n",
    "A_0 = 0.299e-6\n",
    "M_1 = 0.3142\n",
    "M_2 = 0.21568\n",
    "R = 8.314 \n",
    "\n",
    "t = np.linspace(0,1000,num=1000)\n",
    "\n",
    "for i in range(len(t_1)):\n",
    "    pyplot.plot(t,delta_m(P_1[i],T_1[i],M_1),'-',label=\"Hexaconazole at t(ºC): \"+str(t_1[i]))\n",
    "    pyplot.legend()\n",
    "    pyplot.xlabel(\"time (s)\")\n",
    "    pyplot.ylabel(\"delta_m(Kg)\")\n"
   ]
  },
  {
   "cell_type": "code",
   "execution_count": null,
   "metadata": {},
   "outputs": [],
   "source": []
  },
  {
   "cell_type": "code",
   "execution_count": null,
   "metadata": {},
   "outputs": [],
   "source": []
  },
  {
   "cell_type": "markdown",
   "metadata": {},
   "source": [
    "<font size=\"4\">b)\tDetermine the rate of effusion at each temperature for the two compounds.</font>"
   ]
  },
  {
   "cell_type": "code",
   "execution_count": null,
   "metadata": {},
   "outputs": [],
   "source": [
    "def rate(P, T, M):\n",
    "    return P * A_0 * N_A / sqrt(2 * np.pi * M * R * T)\n",
    "\n",
    "N_A = 6.022e23\n",
    "\n",
    "print(\"\\nRates of effusion for Hexaconazole:\")\n",
    "for i in range(len(t_1)):\n",
    "    print(\"temp (ºC): %3.0f Particles/s: %8.1e\" % (t_1[i],rate(P_1[i],T_1[i],M_1)))\n",
    "print(\"\\nRates of effusion for Atrazine:\")    \n",
    "for i in range(len(t_2)):    \n",
    "    print(\"temp (ºC): %3.0f Particles/s: %8.1e\" % (t_2[i],rate(P_2[i],T_2[i],M_2)))"
   ]
  },
  {
   "cell_type": "code",
   "execution_count": null,
   "metadata": {},
   "outputs": [],
   "source": []
  }
 ],
 "metadata": {
  "kernelspec": {
   "display_name": "Python 3",
   "language": "python",
   "name": "python3"
  },
  "language_info": {
   "codemirror_mode": {
    "name": "ipython",
    "version": 3
   },
   "file_extension": ".py",
   "mimetype": "text/x-python",
   "name": "python",
   "nbconvert_exporter": "python",
   "pygments_lexer": "ipython3",
   "version": "3.7.3"
  }
 },
 "nbformat": 4,
 "nbformat_minor": 4
}
