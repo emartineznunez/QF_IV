{
 "cells": [
  {
   "cell_type": "markdown",
   "metadata": {},
   "source": [
    "# Seminar 8.<br>\n",
    "\n",
    "<font size=\"4\">2. The following table shows electrical conductivities ($\\kappa$ in $\\mu S cm^{-1}$) for the HCl, NaCl and NaCH$_{3}$COO electrolytes at different concentrations (in $mol L^{-1}$). Water, which is the solvent, has a conductivity of 1.3 $\\mu S cm^{-1}$. The conductivity of various CH$_{3}$COOH solutions was also measured at the same concentrations.</font>\n",
    "\n",
    "| <font size=\"3\">$c$</font>  | <font size=\"3\">HCl</font>  |  <font size=\"3\">NaCl</font> | <font size=\"3\">NaAc</font> | <font size=\"3\">HAc</font> |\n",
    "|-----------|------|--------|-------|------|\n",
    "| 0.0031\t| 1300 |\t387 |\t285 |\t99 |\n",
    "| 0.0063\t| 2589 |    767\t|   568\t|  143 | \n",
    "| 0.0125\t| 5077 | \t1530| \t1100| \t205| \n",
    "| 0.0250\t| 9887 | \t3012| \t2150| \t295| \n",
    "| 0.0500\t| 19003| \t5820| \t4080| \t420| \n",
    "\n",
    "<font size=\"4\">Use the available data and the laws that govern the behavior of ions in solution to determine the acid dissociation constant of acetic acid. Make all necessary plots. Compare the value with the reported one (bibliography).</font>"
   ]
  },
  {
   "cell_type": "markdown",
   "metadata": {},
   "source": [
    "We first read the data (in file data_8.1.csv) using pandas (we are also importing the libraries we are gonna use):\n",
    "```python\n",
    "%matplotlib inline\n",
    "import numpy as np\n",
    "import pandas as pd\n",
    "from math import sqrt\n",
    "from matplotlib import pyplot\n",
    "    \n",
    "#reading the conductivities from a file\n",
    "conduct = pd.read_csv(\"data_8.1.csv\",sep=',')\n",
    "```\n",
    "\n",
    "To access the concentration, for instance, you can simply use:\n",
    "```python\n",
    "c = conduct['c'].values * 1e-3  # mol / cm^3\n",
    "```\n",
    "where _c_ is a numpy array"
   ]
  },
  {
   "cell_type": "code",
   "execution_count": null,
   "metadata": {},
   "outputs": [],
   "source": []
  },
  {
   "cell_type": "markdown",
   "metadata": {},
   "source": [
    "Now, we can read the conductivities of HCl, NaCl, NaAc and HAc from the file pretty much in the same way we read the concentrations. \n",
    "\n",
    "The values of $\\lambda^{o}_{m}$ for each electrolyte can be obtained using Kohlrausch's law:\n",
    "\n",
    "$\\lambda_{m}=\\lambda^{o}_{m}-K\\sqrt{c}$\n",
    "\n",
    "You can use polyfit method from numpy for linear regression:\n",
    "```python\n",
    "x = c ** 0.5\n",
    "y = conduct['HCl'].values / c * 1e-6 # S cm^2 / mol\n",
    "coeffs = np.polyfit(x,y,1)\n",
    "fit = coeffs[0] * x + coeffs[1]\n",
    "```\n",
    "where _fit_ is the resulting linear regression, _coeffs[0]_ the slope and _coeffs[1]_ the intercept. "
   ]
  },
  {
   "cell_type": "code",
   "execution_count": null,
   "metadata": {},
   "outputs": [],
   "source": []
  },
  {
   "cell_type": "markdown",
   "metadata": {},
   "source": [
    "Using the law of independent migration of ions you can now determine the value of $\\lambda^{o}_{m}$ for HAc"
   ]
  },
  {
   "cell_type": "code",
   "execution_count": null,
   "metadata": {},
   "outputs": [],
   "source": []
  },
  {
   "cell_type": "markdown",
   "metadata": {},
   "source": [
    "Now, using Ostwald diluation equation:\n",
    "\n",
    "$\\frac{1}{\\lambda_{m}}=\\frac{1}{\\lambda^{o}_{m}}+\\frac{c\\lambda_{m}}{K'_{a}(\\lambda^{o}_{m})^{2}}$\n",
    "\n",
    "and using the $\\lambda^{o}_{m}$ value for HAc determined above, we can get the value of the concentration-based dissociation constant of HAc $K'_{a}$"
   ]
  },
  {
   "cell_type": "code",
   "execution_count": null,
   "metadata": {},
   "outputs": [],
   "source": []
  },
  {
   "cell_type": "markdown",
   "metadata": {},
   "source": [
    "Finally, the true thermodynamic dissociation constant $K_{a}$ includes the activity coefficients of the ions:\n",
    "    \n",
    "$K_{a}=K'_{a}\\gamma_{\\mp}^{2}$\n",
    "\n",
    "where $\\gamma_{\\mp}$ is the mean activity coefficient of the ions (H$^{+}$ and Ac$^{-}$). According the Debye-Huckel theory, this mean value can be obtained from:\n",
    "\n",
    "$ln\\gamma_{\\mp}=-A\\sqrt{I}$\n",
    "\n",
    "Where $I$ is the ionic stregth, which in this case is just $c\\alpha$. Therefore:\n",
    "$lnK'_{a}=lnK_{a}+2A\\sqrt{c\\alpha}$\n",
    "\n",
    "From where we can get the value of the thermodynamic dissociation constant $K_{a}$"
   ]
  },
  {
   "cell_type": "code",
   "execution_count": null,
   "metadata": {},
   "outputs": [],
   "source": []
  },
  {
   "cell_type": "code",
   "execution_count": null,
   "metadata": {},
   "outputs": [],
   "source": []
  }
 ],
 "metadata": {
  "kernelspec": {
   "display_name": "Python 3",
   "language": "python",
   "name": "python3"
  },
  "language_info": {
   "codemirror_mode": {
    "name": "ipython",
    "version": 3
   },
   "file_extension": ".py",
   "mimetype": "text/x-python",
   "name": "python",
   "nbconvert_exporter": "python",
   "pygments_lexer": "ipython3",
   "version": "3.7.3"
  }
 },
 "nbformat": 4,
 "nbformat_minor": 2
}
