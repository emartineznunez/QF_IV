{
 "cells": [
  {
   "cell_type": "markdown",
   "metadata": {},
   "source": [
    "Partition function and fractional populations of a two-level system"
   ]
  },
  {
   "cell_type": "code",
   "execution_count": null,
   "metadata": {},
   "outputs": [],
   "source": [
    "import numpy as np\n",
    "import matplotlib.pyplot as plt\n",
    "\n",
    "# Number of levels \n",
    "N = 2\n",
    "\n",
    "# degeneration\n",
    "g=[1] * N               # All level g = 1\n",
    "#g = list(range(1,N+1))  # Increases as i+1\n",
    "#g[1]=2                  # Modifies a particular g[i]\n",
    "\n",
    "# Spacing between levels (integer)\n",
    "de = 1\n",
    "\n",
    "# Energy levels\n",
    "e = list(range(N))\n",
    "e = [i * de for i in e]\n",
    "\n",
    "# Value of kT/E\n",
    "nplot = 100             # number of points\n",
    "minkte = 0.01           # minimum value\n",
    "maxkte = 100             # maximun value\n",
    "kte = np.linspace(minkte,maxkte,nplot) \n",
    "\n",
    "# Population of each level at each value of kT/E\n",
    "ni = []\n",
    "for i,(gi,ei) in enumerate(zip(g,e)):\n",
    "    dum2=[]\n",
    "    for j,x in enumerate(kte):\n",
    "        dum1 = gi*np.exp(-ei/x)\n",
    "        dum2.append(dum1)\n",
    "    ni.append(dum2)\n",
    "    \n",
    "# Partition function and plot\n",
    "q = [sum(i) for i in zip(*ni)]\n",
    "plt.plot(kte,q)\n",
    "plt.xlabel('kT/E')\n",
    "plt.ylabel('Partition function, q')\n",
    "plt.show()\n",
    "\n",
    "# Population ni/N\n",
    "pop = []\n",
    "for i in range(N):\n",
    "    dum = ni[i]\n",
    "    for j,qj in enumerate(q):\n",
    "        dum[j] /= q[j]\n",
    "    pop.append(dum)\n",
    "\n",
    "# Plot    \n",
    "for i in range(N):\n",
    "    line='g=%d; n=%d'%(g[i],i)\n",
    "    plt.plot(kte,pop[i],label=line)\n",
    "    plt.xlabel('kT/E')\n",
    "    plt.ylabel('Fractional population')\n",
    "plt.legend(loc='best')\n",
    "plt.show()\n"
   ]
  },
  {
   "cell_type": "code",
   "execution_count": null,
   "metadata": {},
   "outputs": [],
   "source": []
  },
  {
   "cell_type": "code",
   "execution_count": null,
   "metadata": {},
   "outputs": [],
   "source": []
  },
  {
   "cell_type": "code",
   "execution_count": null,
   "metadata": {},
   "outputs": [],
   "source": []
  }
 ],
 "metadata": {
  "kernelspec": {
   "display_name": "Python 3",
   "language": "python",
   "name": "python3"
  },
  "language_info": {
   "codemirror_mode": {
    "name": "ipython",
    "version": 3
   },
   "file_extension": ".py",
   "mimetype": "text/x-python",
   "name": "python",
   "nbconvert_exporter": "python",
   "pygments_lexer": "ipython3",
   "version": "3.8.5"
  }
 },
 "nbformat": 4,
 "nbformat_minor": 4
}
