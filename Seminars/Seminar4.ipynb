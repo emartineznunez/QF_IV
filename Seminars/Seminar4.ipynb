{
 "cells": [
  {
   "cell_type": "markdown",
   "metadata": {},
   "source": [
    "1. The vibrational modes of acetylene (in $cm^{-1}$ and degeneracies in parentheses) are: 612(2), 729(2), 1974(1), 3287(1) and 3374(1).\n",
    "\n",
    "   a) Plot the vibrational contribution of each mode to $C_V$ as a function of $T/\\theta_{vib}$.  "
   ]
  },
  {
   "cell_type": "code",
   "execution_count": null,
   "metadata": {},
   "outputs": [],
   "source": [
    "import numpy as np\n",
    "import matplotlib.pyplot as plt\n",
    "# 1 K = 0.695 cm-1\n",
    "\n",
    "# X is tita/T\n",
    "# cv is CV,m/R\n",
    "def cv(deg,X):\n",
    "    cv = deg * X ** 2 * (np.e ** (-X/2) / (1 - np.e ** (-X) ) ) ** 2\n",
    "    return cv\n",
    "\n",
    "# sm is Sm/R\n",
    "def sm(deg,X):\n",
    "    sm = deg * ( X / (np.e ** (X) - 1) - np.log(1 - np.e **(-X)) )\n",
    "    return sm\n",
    "\n",
    "freq = np.array([612, 729, 1974, 3287, 3374])\n",
    "tita = freq / 0.695\n",
    "dege = [2,2,1,1,1]\n",
    "\n",
    "temp = np.linspace(0.01,10000,100000)\n",
    "for i in range(len(freq)):\n",
    "    x = temp / tita[i]\n",
    "    plt.plot(x,cv(dege[i],1/x),label=i)\n",
    "    plt.xlabel('T/theta_vib')\n",
    "    plt.ylabel('Molar heat capacity CV,m/R for mode: '+str(i))\n",
    "    plt.legend(loc='best')\n",
    "    plt.xlim([0, 1.5])\n",
    "    plt.show()"
   ]
  },
  {
   "cell_type": "markdown",
   "metadata": {},
   "source": [
    "   b) Determine the total vibrational contribution to $C_V$ at 298 K and 500 K"
   ]
  },
  {
   "cell_type": "code",
   "execution_count": null,
   "metadata": {},
   "outputs": [],
   "source": [
    "C_V = 0\n",
    "temp = float(input('Temperature  in K: '))\n",
    "for i in range(len(freq)):\n",
    "    x = temp / tita[i]\n",
    "    C_V += cv(dege[i],1/x)\n",
    "print('C_V / R = ',C_V)"
   ]
  },
  {
   "cell_type": "markdown",
   "metadata": {},
   "source": [
    "   c) Also plot the vibrational contribution of each mode to the molar entropy as a function of $T/\\theta_{vib}$."
   ]
  },
  {
   "cell_type": "code",
   "execution_count": null,
   "metadata": {},
   "outputs": [],
   "source": [
    "temp = np.linspace(10,100000,1000000)\n",
    "for i in range(len(freq)):\n",
    "    x = temp / tita[i]\n",
    "    plt.plot(x,sm(dege[i],1/x),label=i)\n",
    "    plt.xlabel('T/theta_vib')\n",
    "    plt.ylabel('Molar entropy Sm/R for mode: '+str(i))\n",
    "    plt.legend(loc='best')\n",
    "    plt.xlim([0, 10])\n",
    "    plt.show()"
   ]
  },
  {
   "cell_type": "markdown",
   "metadata": {},
   "source": [
    "   d) Finally, obtain the vibrational contribution to $S_{m}$ at the temperatures of b) "
   ]
  },
  {
   "cell_type": "code",
   "execution_count": null,
   "metadata": {},
   "outputs": [],
   "source": [
    "S_m = 0\n",
    "temp = float(input('Temperature  in K: '))\n",
    "for i in range(len(freq)):\n",
    "    x = temp / tita[i]\n",
    "    S_m += sm(dege[i],1/x)\n",
    "print('S_m / R = ',S_m)"
   ]
  },
  {
   "cell_type": "code",
   "execution_count": null,
   "metadata": {},
   "outputs": [],
   "source": []
  }
 ],
 "metadata": {
  "kernelspec": {
   "display_name": "Python 3",
   "language": "python",
   "name": "python3"
  },
  "language_info": {
   "codemirror_mode": {
    "name": "ipython",
    "version": 3
   },
   "file_extension": ".py",
   "mimetype": "text/x-python",
   "name": "python",
   "nbconvert_exporter": "python",
   "pygments_lexer": "ipython3",
   "version": "3.8.5"
  }
 },
 "nbformat": 4,
 "nbformat_minor": 4
}
