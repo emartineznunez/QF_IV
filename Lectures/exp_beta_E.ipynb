{
 "cells": [
  {
   "cell_type": "markdown",
   "metadata": {},
   "source": [
    "This piece of code gives the value of $\\exp(-\\beta\\times\\epsilon)$ taking into account the number of levels, the total energy of the system and the number of particles."
   ]
  },
  {
   "cell_type": "code",
   "execution_count": null,
   "metadata": {},
   "outputs": [],
   "source": [
    "from math import log\n",
    "\n",
    "m = int(input('Maximum level: '))\n",
    "y = int(input('Total energy is how many times epsilon: '))\n",
    "N = int(input('Number of particles: '))\n",
    "mini = 1e6\n",
    "for j in range(100001):\n",
    "    x = 0.00001 * j\n",
    "    sum = 0\n",
    "    for i in range(m+1): sum += (i - y / N) * x ** i\n",
    "    if abs(sum) < mini:\n",
    "        mini = abs(sum)\n",
    "        xmini = x\n",
    "print('exp(-beta * E) = ',xmini)\n",
    "print('beta * E = ',-log(xmini))"
   ]
  },
  {
   "cell_type": "code",
   "execution_count": null,
   "metadata": {},
   "outputs": [],
   "source": []
  }
 ],
 "metadata": {
  "kernelspec": {
   "display_name": "Python 3",
   "language": "python",
   "name": "python3"
  },
  "language_info": {
   "codemirror_mode": {
    "name": "ipython",
    "version": 3
   },
   "file_extension": ".py",
   "mimetype": "text/x-python",
   "name": "python",
   "nbconvert_exporter": "python",
   "pygments_lexer": "ipython3",
   "version": "3.8.5"
  }
 },
 "nbformat": 4,
 "nbformat_minor": 4
}
