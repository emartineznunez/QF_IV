{
 "cells": [
  {
   "cell_type": "markdown",
   "metadata": {},
   "source": [
    "1. Plot the contribution to the rotational partition function $q_{r}$ of the different rotational levels for HCl ($\\tilde{B}=10.591 cm^{-1}$) for different temperatures: 100, 200, 300, 400, 500, 600, 700, 800, 900 and 1000 K.\n",
    "\n",
    "2. Determine the most populated rotational level at each temperature. Find an anaytical expression to determine this value. "
   ]
  },
  {
   "cell_type": "code",
   "execution_count": null,
   "metadata": {},
   "outputs": [],
   "source": [
    "from math import e,sqrt\n",
    "import matplotlib.pyplot as plt\n",
    "\n",
    "#B = float(input('Rotational constant (cm-1): '))\n",
    "B = 10.591 # for HCl\n",
    "T = float(input('Temperature (K): '))\n",
    "Twn = T * 0.695 # T in wavenumbers\n",
    "C = B / Twn\n",
    "\n",
    "y = []\n",
    "x = []\n",
    "for J in range(1000):\n",
    "    pf = (2 * J + 1) * e **(-C * J * (J + 1))\n",
    "    y.append(pf)\n",
    "    x.append(J)\n",
    "    if pf < 0.01: break\n",
    "plt.plot(x,y)\n",
    "plt.xlabel('J')\n",
    "plt.ylabel('Contribution to qr')\n",
    "plt.show()\n",
    "maxJ = round(0.5 * (sqrt(2 / C) - 1))\n",
    "print('Predicted max: ',maxJ)"
   ]
  },
  {
   "cell_type": "markdown",
   "metadata": {},
   "source": [
    "3. Make plots (and derive the corresponding equations) for the variation of average energy with temperature for:\n",
    "\n",
    "    a) A system with two non-degenerate levels"
   ]
  },
  {
   "cell_type": "code",
   "execution_count": null,
   "metadata": {},
   "outputs": [],
   "source": [
    "import numpy as np\n",
    "import matplotlib.pyplot as plt\n",
    "\n",
    "eps = 1\n",
    "\n",
    "kt1 = np.linspace(0.01, 1, num=1000)\n",
    "kt2 = np.linspace(0.01, 10, num=1000)\n",
    "beta1 = 1 / kt1\n",
    "beta2 = 1 / kt2\n",
    "e1 = eps / (np.e**(beta1 * eps) + 1 )\n",
    "e2 = eps / (np.e**(beta2 * eps) + 1 )\n",
    "plt.plot(kt1,e1)\n",
    "plt.xlabel('kT/E')\n",
    "plt.ylabel('Energy, <e>')\n",
    "plt.show()\n",
    "plt.plot(kt2,e2)\n",
    "plt.xlabel('kT/E')\n",
    "plt.ylabel('Energy, <e>')"
   ]
  },
  {
   "cell_type": "markdown",
   "metadata": {},
   "source": [
    "   b) For the vibrational levels of water. The normal modes of water are: 3656.7 $cm^{-1}$, 1594.8 $cm^{-1}$ and 3755.8 $cm^{-1}$."
   ]
  },
  {
   "cell_type": "code",
   "execution_count": null,
   "metadata": {},
   "outputs": [],
   "source": [
    "# x is kT/hc\n",
    "# y is E/hc\n",
    "nu1 = 3656.7\n",
    "nu2 = 1594.8\n",
    "nu3 = 3766.8\n",
    "x = np.linspace(100, 10000, num=1000)\n",
    "e1 = nu1 / (np.e**(nu1/x)-1)\n",
    "e2 = nu2 / (np.e**(nu2/x)-1)\n",
    "e3 = nu3 / (np.e**(nu3/x)-1)\n",
    "E = e1 + e2 + e3\n",
    "\n",
    "plt.plot(x,e1,label='Mode 1')\n",
    "plt.plot(x,e2,label='Mode 2')\n",
    "plt.plot(x,e3,label='Mode 3')\n",
    "plt.plot(x,E,label='Total energy')\n",
    "\n",
    "plt.xlabel('kT/hc')\n",
    "plt.ylabel('Energy, <e>/hc')\n",
    "plt.legend()\n",
    "plt.show()"
   ]
  },
  {
   "cell_type": "code",
   "execution_count": null,
   "metadata": {},
   "outputs": [],
   "source": []
  }
 ],
 "metadata": {
  "kernelspec": {
   "display_name": "Python 3",
   "language": "python",
   "name": "python3"
  },
  "language_info": {
   "codemirror_mode": {
    "name": "ipython",
    "version": 3
   },
   "file_extension": ".py",
   "mimetype": "text/x-python",
   "name": "python",
   "nbconvert_exporter": "python",
   "pygments_lexer": "ipython3",
   "version": "3.8.5"
  }
 },
 "nbformat": 4,
 "nbformat_minor": 4
}
