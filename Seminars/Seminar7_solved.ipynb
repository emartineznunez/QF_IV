{
 "cells": [
  {
   "cell_type": "markdown",
   "metadata": {},
   "source": [
    "# Seminar 7.<br>\n",
    "\n",
    "<font size=\"4\">2. \tAt the bottom of a 5 cm-diameter cylinder containing 1 L of water, a concentrated solution of 10 g of sucrose in 5 mL of water is injected. Determine how the concentration varies with time at a distance of 5 cm above the bottom of the cylinder. Discuss the results for different times: $t = 50 s$, $t = 48 h$ and $t= 1 year$. \n",
    "\n",
    "Data: $D$(sucrose, 25 ºC, in H$_{2}$O) = $5.2\\times10^{-6} m^{2} s^{-1}$. $M(sucrose) = 342.3 g/mol$.</font>\n",
    "\n",
    "\n",
    "**Hint #1:** The 1-D result for the difussion equation is:\n",
    "\n",
    "$c(x,t)=\\frac{n_{0}}{A(\\pi Dt)^{1/2}}e^{-x^{2}/4Dt}$\n",
    "\n",
    "The factor ($n_{0}/A$) arises from the boundary condition: the integral of the above equation between $0$ and $\\infty$ is precisely this factor, which is the total amount of substance per cross-sectional area.\n",
    "\n",
    "**Hint #2:** However, in this problem this boundary condition changes. You will need to use the error function $erf(x)$:\n",
    "\n",
    "$erf(x)=\\frac{2}{\\sqrt{\\pi}}\\int_{0}^{x}e^{-x^{2}}dx $\n",
    "\n",
    "In python this function can be invoked like this:\n",
    "```python\n",
    "from math import erf\n",
    "print(erf(1.0))\n",
    "```\n",
    "\n",
    "**Hint #3:** Here are some useful first lines for your code:\n",
    "\n",
    "```python\n",
    "import numpy as np\n",
    "from math import sqrt,erf\n",
    "from sys import exit\n",
    "\n",
    "def c(x,t):\n",
    "    N = n0 / A # Note that this is the value that will change due to the new boundary conditions\n",
    "    return N / (np.pi * D * t)**0.5 * np.e ** (- x ** 2 / (4 * D * t))\n",
    "```"
   ]
  },
  {
   "cell_type": "code",
   "execution_count": 3,
   "metadata": {},
   "outputs": [
    {
     "name": "stdout",
     "output_type": "stream",
     "text": [
      "Units of time: s (sec), m(minutes), h (hours), d (days): d\n",
      "Number of days: 365\n",
      "c_inf:  0.029214139643587496  M\n",
      "c(x=0.05,t= 31536000.0 sec) 0.02958842976837995  M\n"
     ]
    }
   ],
   "source": [
    "import numpy as np\n",
    "from math import sqrt,erf\n",
    "from sys import exit\n",
    "\n",
    "def c(x,t):\n",
    "    N = n0 / A / erf(L/(4 * D * t)**0.5)\n",
    "    return N / (np.pi * D * t)**0.5 * np.e ** (- x ** 2 / (4 * D * t))\n",
    "\n",
    "r = 2.5 # cm\n",
    "D = 5.2e-4 # cm^2 s-1\n",
    "M = 342.3 # g/mol\n",
    "mass = 10 # g\n",
    "n0 = mass / M\n",
    "V = 1e3 # cm^3 (we neglect the initial 5 mL)\n",
    "c_inf = n0 / V # this is the t = inf concentration\n",
    "A = np.pi * r ** 2  # cross section\n",
    "L = V / A  # length of the cylinder (cm)\n",
    "\n",
    "##Reading the time\n",
    "ft = input('Units of time: s (sec), m(minutes), h (hours), d (days): ')\n",
    "if ft == 's':\n",
    "    t = float(input('Number of seconds: '))\n",
    "elif ft == 'm':\n",
    "    t = float(input('Number of minutes: ')) * 60\n",
    "elif ft == 'h':\n",
    "    t = float(input('Number of hours: ')) * 60 * 60\n",
    "elif ft == 'd':\n",
    "    t = float(input('Number of days: ')) * 24 * 60 * 60\n",
    "else:\n",
    "    print('Please, choose the right units for time')\n",
    "    exit()\n",
    "\n",
    "#Print the final concentration (the one that would correspond to infinite time)\n",
    "print('c_inf: ',c_inf*1e3,' M')\n",
    "#Print the concentration at 5 cm above the bottom at the requested time\n",
    "print('c(x=0.05,t=',t,'sec)',c(5,t)*1e3,' M')"
   ]
  },
  {
   "cell_type": "code",
   "execution_count": null,
   "metadata": {},
   "outputs": [],
   "source": []
  }
 ],
 "metadata": {
  "kernelspec": {
   "display_name": "Python 3",
   "language": "python",
   "name": "python3"
  },
  "language_info": {
   "codemirror_mode": {
    "name": "ipython",
    "version": 3
   },
   "file_extension": ".py",
   "mimetype": "text/x-python",
   "name": "python",
   "nbconvert_exporter": "python",
   "pygments_lexer": "ipython3",
   "version": "3.7.3"
  }
 },
 "nbformat": 4,
 "nbformat_minor": 2
}
