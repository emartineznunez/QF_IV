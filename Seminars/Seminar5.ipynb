{
 "cells": [
  {
   "cell_type": "markdown",
   "metadata": {},
   "source": [
    "# Seminar 5.<br>\n",
    "\n",
    "<font size=\"4\">1. Analize the variation of the speed distribution, $G(v)$, with temperature and mass of a gas by making the following graphs:\n",
    "\n",
    "a)\tFor O<sub>2</sub> plot: the pre-exponential term of $G(v)$, the exponential, and $G(v)$ itself at three different temperatures.</font>\n",
    "\n",
    "\n",
    "**Hint #1:** Remember how to prompt the user to provide a value of a magnitude (float) in Python:\n",
    "```python\n",
    "a = float(input('Give me the value of a: '))\n",
    "```\n",
    "\n",
    "**Hint #2:** Remember how to plot a function in Python:\n",
    "```python\n",
    "%matplotlib inline\n",
    "import numpy as np                   # np to create a range in x. It can be employed for pi (np.pi) and e (np.e)\n",
    "from matplotlib import pyplot        # pyplot is employed to make plots\n",
    "from math import sqrt                # sqrt function from math library\n",
    "from scipy.signal import find_peaks  # find_peaks finds peaks in a function\n",
    "\n",
    "def f(x):                            # A function f(x)\n",
    "    return x * x\n",
    "\n",
    "def g(x):                            # A different function g(x)\n",
    "    return x * x * x\n",
    "\n",
    "xmax = 5                             # Maximum value of x \n",
    "x   = np.linspace(0, xmax, num=100)  # Range in x (100 evenly spaced numbers between 2 and 3)\n",
    "pyplot.plot(x,f(x),'-',label=\"x^2\")  # Plot f(x)\n",
    "pyplot.plot(x,g(x),'-',label=\"x^3\")  # Plot g(x)\n",
    "pyplot.xlim(0,xmax)                  # x axis limits\n",
    "pyplot.ylim(0,5)                     # y axis limits\n",
    "pyplot.legend()                      # legend\n",
    "pyplot.xlabel(\"X axis\")              # x axis label\n",
    "pyplot.ylabel(\"Y axis\")              # y axis label\n",
    "```"
   ]
  },
  {
   "cell_type": "code",
   "execution_count": null,
   "metadata": {},
   "outputs": [],
   "source": []
  },
  {
   "cell_type": "code",
   "execution_count": null,
   "metadata": {},
   "outputs": [],
   "source": []
  },
  {
   "cell_type": "markdown",
   "metadata": {},
   "source": [
    "<font size=\"4\">b)\tNow, keeping the temperature constant at 500 K, plot $G(v)$ for H<sub>2</sub>, Ne, Ar and Xe.</font>"
   ]
  },
  {
   "cell_type": "code",
   "execution_count": null,
   "metadata": {},
   "outputs": [],
   "source": []
  },
  {
   "cell_type": "markdown",
   "metadata": {},
   "source": [
    "<font size=\"4\">2. What is the speed at which most of the following atoms travel?: a) He and b) Ar, at 300 K?</font> "
   ]
  },
  {
   "cell_type": "code",
   "execution_count": null,
   "metadata": {},
   "outputs": [],
   "source": []
  }
 ],
 "metadata": {
  "kernelspec": {
   "display_name": "Python 3",
   "language": "python",
   "name": "python3"
  },
  "language_info": {
   "codemirror_mode": {
    "name": "ipython",
    "version": 3
   },
   "file_extension": ".py",
   "mimetype": "text/x-python",
   "name": "python",
   "nbconvert_exporter": "python",
   "pygments_lexer": "ipython3",
   "version": "3.7.3"
  }
 },
 "nbformat": 4,
 "nbformat_minor": 4
}
