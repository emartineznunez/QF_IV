{
 "cells": [
  {
   "cell_type": "markdown",
   "metadata": {},
   "source": [
    "# Seminar 5.<br>\n",
    "\n",
    "<font size=\"4\">1. Analize the variation of the speed distribution, $G(v)$, with temperature and mass of a gas by making the following graphs:\n",
    "\n",
    "a)\tFor O<sub>2</sub> plot: the pre-exponential term of $G(v)$, the exponential, and $G(v)$ itself at three different temperatures.</font>\n",
    "\n",
    "\n",
    "**Hint #1:** Remember how to prompt the user to provide a value of a magnitude (float) in Python:\n",
    "```python\n",
    "a = float(input('Give me the value of a: '))\n",
    "```\n",
    "\n",
    "**Hint #2:** Remember how to plot a function in Python:\n",
    "```python\n",
    "%matplotlib inline\n",
    "import numpy as np                   # np to create a range in x. It can be employed for pi (np.pi) and e (np.e)\n",
    "from matplotlib import pyplot        # pyplot is employed to make plots\n",
    "from math import sqrt                # sqrt function from math library\n",
    "\n",
    "def f(x):                            # A function f(x)\n",
    "    return x * x\n",
    "\n",
    "def g(x):                            # A different function g(x)\n",
    "    return x * x * x\n",
    "\n",
    "xmax = 5                             # Maximum value of x \n",
    "x   = np.linspace(0, xmax, num=100)  # Range in x (100 evenly spaced numbers between 2 and 3)\n",
    "pyplot.plot(x,f(x),'-',label=\"x^2\")  # Plot f(x)\n",
    "pyplot.plot(x,g(x),'-',label=\"x^3\")  # Plot g(x)\n",
    "pyplot.xlim(0,xmax)                  # x axis limits\n",
    "pyplot.ylim(0,5)                     # y axis limits\n",
    "pyplot.legend()                      # legend\n",
    "pyplot.xlabel(\"X axis\")              # x axis label\n",
    "pyplot.ylabel(\"Y axis\")              # y axis label\n",
    "```"
   ]
  },
  {
   "cell_type": "code",
   "execution_count": null,
   "metadata": {},
   "outputs": [],
   "source": [
    "%matplotlib inline\n",
    "import numpy as np\n",
    "from matplotlib import pyplot\n",
    "from math import sqrt\n",
    "\n",
    "def pre_expG(v):\n",
    "    return 4 * np.pi * (M / (2 * np.pi * R * T)) **(3/2) * v * v\n",
    "\n",
    "def expG(v):\n",
    "    return np.e ** (- M * v * v / (2 * R * T))\n",
    "\n",
    "T = float(input('Give me the temperature of the system (in K): '))\n",
    "M = float(input('Give me the molecular mass of the working gas (in Kg/mol): '))\n",
    "R = 8.314 \n",
    "vmax = 1500\n",
    "v   = np.linspace(0.0, vmax, num=5000)\n",
    "pyplot.plot(v,pre_expG(v),'-',label=\"Pre-exponential factor\")\n",
    "pyplot.plot(v,expG(v),'-',label=\"Exponential\")\n",
    "pyplot.plot(v,pre_expG(v) * expG(v),'-',label=\"G(v)\")\n",
    "pyplot.xlim(0,vmax)\n",
    "pyplot.ylim(0,0.005)\n",
    "pyplot.legend()\n",
    "pyplot.xlabel(\"v (m/s)\")\n",
    "pyplot.ylabel(\"G(v)\")\n",
    "pyplot.title('Temperature: '+str(T)+' K'+'   Molar mass: '+str(M)+' kg/mol')"
   ]
  },
  {
   "cell_type": "code",
   "execution_count": null,
   "metadata": {},
   "outputs": [],
   "source": []
  },
  {
   "cell_type": "code",
   "execution_count": null,
   "metadata": {},
   "outputs": [],
   "source": []
  },
  {
   "cell_type": "markdown",
   "metadata": {},
   "source": [
    "<font size=\"4\">b)\tNow, keeping the temperature constant at 500 K, plot $G(v)$ for H<sub>2</sub>, Ne, Ar and Xe.</font>"
   ]
  },
  {
   "cell_type": "code",
   "execution_count": null,
   "metadata": {},
   "outputs": [],
   "source": [
    "from ipywidgets import interact\n",
    "%matplotlib inline\n",
    "T = 500\n",
    "\n",
    "vmax = 5000\n",
    "def func_plot(M=2):\n",
    "    M = M * 1e-3\n",
    "    v   = np.linspace(0.0, vmax, num=5000)\n",
    "    f1 = 4 * np.pi * (M / (2 * np.pi * R * T)) **(3/2) * v * v\n",
    "    f2 = np.e ** (- M * v * v / (2 * R * T))\n",
    "    pyplot.plot(v,f1*f2,'-',label=\"G(v)\")\n",
    "    pyplot.xlim(0,5000)\n",
    "    pyplot.ylim(0,0.0035)\n",
    "    pyplot.legend()\n",
    "    pyplot.xlabel(\"v (m/s)\")\n",
    "    pyplot.ylabel(\"G(v)\")\n",
    "    pyplot.title('Temperature: '+str(T)+' K'+'   Molar mass: '+str(M)+' kg/mol')\n",
    "\n",
    "interact(func_plot, M=(2,131,10))"
   ]
  },
  {
   "cell_type": "code",
   "execution_count": null,
   "metadata": {},
   "outputs": [],
   "source": []
  },
  {
   "cell_type": "markdown",
   "metadata": {},
   "source": [
    "<font size=\"4\">2. What is the speed at which most of the following atoms travel?: a) He and b) Ar, at 300 K?</font> "
   ]
  },
  {
   "cell_type": "code",
   "execution_count": null,
   "metadata": {},
   "outputs": [],
   "source": [
    "T = 300\n",
    "M = float(input('Give me the molecular mass of the working gas (in Kg/mol): '))\n",
    "print(sqrt((2 * R * T) / M))"
   ]
  },
  {
   "cell_type": "code",
   "execution_count": null,
   "metadata": {},
   "outputs": [],
   "source": []
  }
 ],
 "metadata": {
  "kernelspec": {
   "display_name": "Python 3",
   "language": "python",
   "name": "python3"
  },
  "language_info": {
   "codemirror_mode": {
    "name": "ipython",
    "version": 3
   },
   "file_extension": ".py",
   "mimetype": "text/x-python",
   "name": "python",
   "nbconvert_exporter": "python",
   "pygments_lexer": "ipython3",
   "version": "3.7.3"
  }
 },
 "nbformat": 4,
 "nbformat_minor": 4
}
