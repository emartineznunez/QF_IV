{
 "cells": [
  {
   "cell_type": "markdown",
   "metadata": {},
   "source": [
    "Program that calculates the distribution of throwing $n_1=20$, $n_2=40$ or $n_3=80$ coins $t=100\\,000$ times. The maximum of the function is normalized to the unity. As the number of _n_ increases the distribution becomes thinner."
   ]
  },
  {
   "cell_type": "code",
   "execution_count": null,
   "metadata": {},
   "outputs": [],
   "source": [
    "import matplotlib.pyplot as plt\n",
    "import numpy as np\n",
    "from random import random\n",
    "from math import factorial\n",
    "\n",
    "def fheads(n,throws):\n",
    "    prob = [0]*throws\n",
    "    npt = [0]*(n+1)\n",
    "    nptt = [0]*(n+1)\n",
    "    for j in range(throws):\n",
    "        heads = 0\n",
    "        for i in range(1,n+1):\n",
    "            x=random()\n",
    "            if x<0.5: heads += 1\n",
    "        prob[j] = heads/n\n",
    "        k=int(prob[j]*n)\n",
    "        npt[k] += 1\n",
    "    maxnp = max(npt)\n",
    "    for i in range(n+1):\n",
    "        npt[i]=npt[i]/maxnp\n",
    "        nptt[i]=factorial(n) / ( factorial(i) * factorial(n-i))\n",
    "    maxnptt = max(nptt)\n",
    "    for i in range(n+1): nptt[i]=nptt[i]/maxnptt\n",
    "    return npt,nptt\n",
    "\n",
    "t=int(input('Number of throws: '))\n",
    "n1 = int(input('Number of coins: '))\n",
    "x1 = np.linspace(0, 100, num=n1+1)\n",
    "y1,y1t = fheads(n1,t)\n",
    "\n",
    "\n",
    "plt.plot(x1,y1,label='N='+str(n1)+' Random')\n",
    "plt.plot(x1,y1t,label='N='+str(n1)+' Theoretical')\n",
    "\n",
    "plt.xlabel('% heads')\n",
    "plt.ylabel('Probability')\n",
    "plt.xticks([0,25,50,75,100])\n",
    "plt.legend()\n",
    "plt.show()"
   ]
  },
  {
   "cell_type": "code",
   "execution_count": null,
   "metadata": {},
   "outputs": [],
   "source": []
  },
  {
   "cell_type": "code",
   "execution_count": null,
   "metadata": {},
   "outputs": [],
   "source": []
  },
  {
   "cell_type": "code",
   "execution_count": null,
   "metadata": {},
   "outputs": [],
   "source": []
  }
 ],
 "metadata": {
  "kernelspec": {
   "display_name": "Python 3",
   "language": "python",
   "name": "python3"
  },
  "language_info": {
   "codemirror_mode": {
    "name": "ipython",
    "version": 3
   },
   "file_extension": ".py",
   "mimetype": "text/x-python",
   "name": "python",
   "nbconvert_exporter": "python",
   "pygments_lexer": "ipython3",
   "version": "3.8.5"
  }
 },
 "nbformat": 4,
 "nbformat_minor": 4
}
